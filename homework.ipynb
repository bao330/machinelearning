{
 "cells": [
  {
   "cell_type": "code",
   "execution_count": 30,
   "metadata": {},
   "outputs": [
    {
     "name": "stdout",
     "output_type": "stream",
     "text": [
      ".. _boston_dataset:\n",
      "\n",
      "Boston house prices dataset\n",
      "---------------------------\n",
      "\n",
      "**Data Set Characteristics:**  \n",
      "\n",
      "    :Number of Instances: 506 \n",
      "\n",
      "    :Number of Attributes: 13 numeric/categorical predictive. Median Value (attribute 14) is usually the target.\n",
      "\n",
      "    :Attribute Information (in order):\n",
      "        - CRIM     per capita crime rate by town\n",
      "        - ZN       proportion of residential land zoned for lots over 25,000 sq.ft.\n",
      "        - INDUS    proportion of non-retail business acres per town\n",
      "        - CHAS     Charles River dummy variable (= 1 if tract bounds river; 0 otherwise)\n",
      "        - NOX      nitric oxides concentration (parts per 10 million)\n",
      "        - RM       average number of rooms per dwelling\n",
      "        - AGE      proportion of owner-occupied units built prior to 1940\n",
      "        - DIS      weighted distances to five Boston employment centres\n",
      "        - RAD      index of accessibility to radial highways\n",
      "        - TAX      full-value property-tax rate per $10,000\n",
      "        - PTRATIO  pupil-teacher ratio by town\n",
      "        - B        1000(Bk - 0.63)^2 where Bk is the proportion of blacks by town\n",
      "        - LSTAT    % lower status of the population\n",
      "        - MEDV     Median value of owner-occupied homes in $1000's\n",
      "\n",
      "    :Missing Attribute Values: None\n",
      "\n",
      "    :Creator: Harrison, D. and Rubinfeld, D.L.\n",
      "\n",
      "This is a copy of UCI ML housing dataset.\n",
      "https://archive.ics.uci.edu/ml/machine-learning-databases/housing/\n",
      "\n",
      "\n",
      "This dataset was taken from the StatLib library which is maintained at Carnegie Mellon University.\n",
      "\n",
      "The Boston house-price data of Harrison, D. and Rubinfeld, D.L. 'Hedonic\n",
      "prices and the demand for clean air', J. Environ. Economics & Management,\n",
      "vol.5, 81-102, 1978.   Used in Belsley, Kuh & Welsch, 'Regression diagnostics\n",
      "...', Wiley, 1980.   N.B. Various transformations are used in the table on\n",
      "pages 244-261 of the latter.\n",
      "\n",
      "The Boston house-price data has been used in many machine learning papers that address regression\n",
      "problems.   \n",
      "     \n",
      ".. topic:: References\n",
      "\n",
      "   - Belsley, Kuh & Welsch, 'Regression diagnostics: Identifying Influential Data and Sources of Collinearity', Wiley, 1980. 244-261.\n",
      "   - Quinlan,R. (1993). Combining Instance-Based and Model-Based Learning. In Proceedings on the Tenth International Conference of Machine Learning, 236-243, University of Massachusetts, Amherst. Morgan Kaufmann.\n",
      "\n"
     ]
    }
   ],
   "source": [
    "#美国波士顿地区房价数据描述\n",
    "\n",
    "#从sklearn.datasets导入波士顿房价数据读取器\n",
    "from sklearn.datasets import load_boston\n",
    "#从读取房价数据存储在变量boston中\n",
    "boston=load_boston()\n",
    "#输出数据描述\n",
    "print(boston.DESCR)"
   ]
  },
  {
   "cell_type": "code",
   "execution_count": 27,
   "metadata": {},
   "outputs": [
    {
     "name": "stdout",
     "output_type": "stream",
     "text": [
      "The max target value is 50.0\n",
      "The min target value is 5.0\n",
      "The average target value is 22.532806324110677\n"
     ]
    }
   ],
   "source": [
    "#美国波士顿地区房价数据分割\n",
    "\n",
    "#从sklearn.model_selection导入数据分割器\n",
    "from sklearn.model_selection import train_test_split\n",
    "\n",
    "#导入numpy并重命名为np\n",
    "import numpy as np\n",
    "\n",
    "X=boston.data\n",
    "y=boston.target\n",
    "\n",
    "#随机采样25%的数据构建测试样本，其余作为训练样本\n",
    "X_train,X_test,y_train,y_test=train_test_split(X,y,random_state=33,test_size=0.25)\n",
    "\n",
    "#分析回归目标值的差异\n",
    "print(\"The max target value is\",np.max(boston.target))\n",
    "print(\"The min target value is\",np.min(boston.target))\n",
    "print(\"The average target value is\",np.mean(boston.target))"
   ]
  },
  {
   "cell_type": "code",
   "execution_count": 3,
   "metadata": {},
   "outputs": [],
   "source": [
    "#训练与测试数据标准化处理\n",
    "\n",
    "#从sklearn.preprocessing导入数据标准化模块\n",
    "from sklearn.preprocessing import StandardScaler\n",
    "\n",
    "#分别初始化对特征和目标值的标准化器\n",
    "ss_X=StandardScaler()\n",
    "ss_y=StandardScaler()\n",
    "\n",
    "#分别对训练和测试数据的特征以及目标值进行标准化处理\n",
    "X_train=ss_X.fit_transform(X_train)\n",
    "X_test=ss_X.transform(X_test)\n",
    "y_train=ss_y.fit_transform(y_train.reshape(-1, 1))\n",
    "y_test=ss_y.transform(y_test.reshape(-1, 1))"
   ]
  },
  {
   "cell_type": "code",
   "execution_count": 4,
   "metadata": {},
   "outputs": [
    {
     "name": "stderr",
     "output_type": "stream",
     "text": [
      "C:\\Users\\lx\\anaconda3\\lib\\site-packages\\sklearn\\utils\\validation.py:760: DataConversionWarning: A column-vector y was passed when a 1d array was expected. Please change the shape of y to (n_samples, ), for example using ravel().\n",
      "  y = column_or_1d(y, warn=True)\n"
     ]
    }
   ],
   "source": [
    "#使用线性回归模型SGDRegressor（随机梯度下降线性回归）对美国波士顿地区房价进行预测\n",
    "\n",
    "#从sklearn.linear_model导入SGDRegressor\n",
    "from sklearn.linear_model import SGDRegressor\n",
    "#使用默认配置初始化线性回归器SGDRegressor\n",
    "sgdr=SGDRegressor()\n",
    "#使用训练数据进行参数估计\n",
    "sgdr.fit(X_train,y_train)\n",
    "#对测试数据进行回归预测\n",
    "sgdr_y_predict=sgdr.predict(X_test)"
   ]
  },
  {
   "cell_type": "code",
   "execution_count": 5,
   "metadata": {},
   "outputs": [
    {
     "name": "stdout",
     "output_type": "stream",
     "text": [
      "The R-squared value of SGDRegressor is 0.662098094672368\n",
      "The mean squared error of SGDRegressor is 26.201351174270005\n",
      "The mean absolute error of SGDRegressor is 3.501662383934226\n"
     ]
    }
   ],
   "source": [
    "#从sklearn.metrics依次导入r2_score、mean_squared_error以及mean_absolute_error用于回归性能的评估\n",
    "from sklearn.metrics import r2_score,mean_squared_error,mean_absolute_error\n",
    "\n",
    "#使用r2_score模块，并输出评估结果\n",
    "print(\"The R-squared value of SGDRegressor is\",r2_score(y_test,sgdr_y_predict))\n",
    "\n",
    "#使用mean_squared_error模块，并输出评估结果\n",
    "print('The mean squared error of SGDRegressor is',mean_squared_error(ss_y.inverse_transform(y_test),ss_y.inverse_transform(sgdr_y_predict)))\n",
    "\n",
    "#使用mean_absolute_error模块，并输出评估结果\n",
    "print('The mean absolute error of SGDRegressor is',mean_absolute_error(ss_y.inverse_transform(y_test),ss_y.inverse_transform(sgdr_y_predict)))"
   ]
  },
  {
   "cell_type": "code",
   "execution_count": 6,
   "metadata": {},
   "outputs": [
    {
     "name": "stderr",
     "output_type": "stream",
     "text": [
      "C:\\Users\\lx\\anaconda3\\lib\\site-packages\\sklearn\\utils\\validation.py:760: DataConversionWarning: A column-vector y was passed when a 1d array was expected. Please change the shape of y to (n_samples, ), for example using ravel().\n",
      "  y = column_or_1d(y, warn=True)\n"
     ]
    }
   ],
   "source": [
    "#径向基核函数配置的支持向量机回归\n",
    "\n",
    "#从sklearn.svm中导入支持向量机（回归）模型\n",
    "from sklearn.svm import SVR\n",
    "\n",
    "#使用径向基核函数配置的支持向量机进行回归训练，并且对测试样本进行预测\n",
    "rbf_svr=SVR(kernel='rbf')\n",
    "rbf_svr.fit(X_train,y_train)\n",
    "rbf_svr_y_predict=rbf_svr.predict(X_test)"
   ]
  },
  {
   "cell_type": "code",
   "execution_count": 7,
   "metadata": {},
   "outputs": [
    {
     "name": "stdout",
     "output_type": "stream",
     "text": [
      "R-squared value of RBF SVR is 0.7559887416340947\n",
      "The mean squared error of RBF SVR is 18.920948861538715\n",
      "The mean absolute error of RBF SVR is 2.6067819999501114\n"
     ]
    }
   ],
   "source": [
    "#使用R-squared、MSE和MAE指标进行性能评估\n",
    "\n",
    "print('R-squared value of RBF SVR is',rbf_svr.score(X_test,y_test))\n",
    "print('The mean squared error of RBF SVR is',mean_squared_error(ss_y.inverse_transform(y_test),ss_y.inverse_transform(rbf_svr_y_predict)))\n",
    "print('The mean absolute error of RBF SVR is',mean_absolute_error(ss_y.inverse_transform(y_test),ss_y.inverse_transform(rbf_svr_y_predict)))"
   ]
  },
  {
   "cell_type": "code",
   "execution_count": 8,
   "metadata": {},
   "outputs": [],
   "source": [
    "#使用据距离加权回归的K近邻回归模型对美国波士顿房价数据进行回归预测\n",
    "\n",
    "# 从sklearn.neighbors导入KNeighborRegressor(K近邻回归器)\n",
    "from sklearn.neighbors import KNeighborsRegressor\n",
    "\n",
    "# 初试化K近邻回归器,并且调整配置,使得预测的方式为根据距离加权回归:weights='distance'\n",
    "dis_knr = KNeighborsRegressor(weights='distance')\n",
    "dis_knr.fit(X_train, y_train)\n",
    "dis_knr_y_predict = dis_knr.predict(X_test)"
   ]
  },
  {
   "cell_type": "code",
   "execution_count": 9,
   "metadata": {},
   "outputs": [
    {
     "name": "stdout",
     "output_type": "stream",
     "text": [
      "R-squared value of distance-weighted KNeighorRegression: 0.7201094821421603\n",
      "The mean squared error of distance-weighted KNeighorRegression: 21.703073090490353\n",
      "The mean absoluate error of distance-weighted KNeighorRegression: 2.801125502210876\n"
     ]
    }
   ],
   "source": [
    "# 使用R-squared、MSE以及MAE三种指标对根据距离加权回归配置的K近邻模型在测试集上进行性能评估。\n",
    "print('R-squared value of distance-weighted KNeighorRegression:', dis_knr.score(X_test, y_test))\n",
    "print('The mean squared error of distance-weighted KNeighorRegression:', mean_squared_error(ss_y.inverse_transform(y_test), ss_y.inverse_transform(dis_knr_y_predict)))\n",
    "print('The mean absoluate error of distance-weighted KNeighorRegression:', mean_absolute_error(ss_y.inverse_transform(y_test), ss_y.inverse_transform(dis_knr_y_predict)))"
   ]
  },
  {
   "cell_type": "code",
   "execution_count": 10,
   "metadata": {},
   "outputs": [],
   "source": [
    "#使用回归树对美国波士顿房价训练数据进行学习，并对测试数据进行预测\n",
    "\n",
    "#从sklearn.tree中导入DecisionTreeRegressor\n",
    "from sklearn.tree import DecisionTreeRegressor\n",
    "#使用默认配置初始化DecisionTreeRegressor\n",
    "dtr=DecisionTreeRegressor()\n",
    "#用波士顿房价的训练数据构建回归树\n",
    "dtr.fit(X_train,y_train)\n",
    "#使用默认配置的单一回归树对测试数据进行预测，并将预测值存储在变量dtr_y_predict中\n",
    "dtr_y_predict=dtr.predict(X_test)"
   ]
  },
  {
   "cell_type": "code",
   "execution_count": 11,
   "metadata": {},
   "outputs": [
    {
     "name": "stdout",
     "output_type": "stream",
     "text": [
      "R-squared value error of DecisionTreeRegressor: 0.6794098355181922\n",
      "The mean squared error of DecisionTreeRegressor: 24.858976377952757\n",
      "The mean absolute error of DecisionTreeRegressor: 3.2007874015748032\n"
     ]
    }
   ],
   "source": [
    "#对单一回归树模型在美国波士顿房价测试数据上的预测性能进行评估\n",
    "#使用R-squared、MSE以及MAE指标对默认配置的回归树在测试集上进行性能评估\n",
    "print('R-squared value error of DecisionTreeRegressor:',dtr.score(X_test,y_test))\n",
    "print('The mean squared error of DecisionTreeRegressor:',mean_squared_error(ss_y.inverse_transform(y_test),ss_y.inverse_transform(dtr_y_predict)))\n",
    "print('The mean absolute error of DecisionTreeRegressor:',mean_absolute_error(ss_y.inverse_transform(y_test),ss_y.inverse_transform(dtr_y_predict)))"
   ]
  },
  {
   "cell_type": "code",
   "execution_count": 12,
   "metadata": {},
   "outputs": [
    {
     "data": {
      "text/plain": [
       "array([55.6793095 , 26.93022859, 25.07516773])"
      ]
     },
     "execution_count": 12,
     "metadata": {},
     "output_type": "execute_result"
    }
   ],
   "source": [
    "#pca降维处理\n",
    "\n",
    "from sklearn.decomposition import PCA\n",
    "#对数据进行标准化处理\n",
    "X_std=StandardScaler().fit_transform(X)\n",
    "#实例化PCA\n",
    "pca = PCA(n_components = 3)\n",
    "#训练数据\n",
    "pca.fit(X_std)\n",
    "#使用PCA的属性查看特征值\n",
    "pca.singular_values_"
   ]
  },
  {
   "cell_type": "code",
   "execution_count": 13,
   "metadata": {},
   "outputs": [
    {
     "data": {
      "text/plain": [
       "array([[ 0.2509514 , -0.25631454,  0.34667207,  0.00504243,  0.34285231,\n",
       "        -0.18924257,  0.3136706 , -0.32154387,  0.31979277,  0.33846915,\n",
       "         0.20494226, -0.20297261,  0.30975984],\n",
       "       [-0.31525237, -0.3233129 ,  0.11249291,  0.45482914,  0.21911553,\n",
       "         0.14933154,  0.31197778, -0.34907   , -0.27152094, -0.23945365,\n",
       "        -0.30589695,  0.23855944, -0.07432203],\n",
       "       [ 0.24656649,  0.29585782, -0.01594592,  0.28978082,  0.12096411,\n",
       "         0.59396117, -0.01767481, -0.04973627,  0.28725483,  0.22074447,\n",
       "        -0.32344627, -0.3001459 , -0.26700025]])"
      ]
     },
     "execution_count": 13,
     "metadata": {},
     "output_type": "execute_result"
    }
   ],
   "source": [
    "#使用PCA的属性查看特征值对应的特征向量\n",
    "pca.components_"
   ]
  },
  {
   "cell_type": "code",
   "execution_count": 36,
   "metadata": {},
   "outputs": [
    {
     "data": {
      "text/plain": [
       "array([[ 38.89018107,  32.93532391, -51.87396066],\n",
       "       [ 33.02343232,  54.79866941, -71.20799688],\n",
       "       [ 26.53873512,  48.76840918, -67.85363879],\n",
       "       ...,\n",
       "       [ 49.08729488,  52.32240905, -64.55434463],\n",
       "       [ 49.49001494,  50.78673003, -63.82014701],\n",
       "       [ 46.64886906,  48.71888423, -65.55410705]])"
      ]
     },
     "execution_count": 36,
     "metadata": {},
     "output_type": "execute_result"
    }
   ],
   "source": [
    "#对原始的数据集进行转换\n",
    "new_X = X.dot(pca.components_.T)\n",
    "new_X"
   ]
  },
  {
   "cell_type": "code",
   "execution_count": 15,
   "metadata": {},
   "outputs": [
    {
     "name": "stdout",
     "output_type": "stream",
     "text": [
      "The max target value is 50.0\n",
      "The min target value is 5.0\n",
      "The average target value is 22.532806324110677\n"
     ]
    }
   ],
   "source": [
    "#随机采样25%的数据构建测试样本，其余作为训练样本\n",
    "X_train,X_test,y_train,y_test=train_test_split(new_X,y,random_state=33,test_size=0.25)\n",
    "#分析回归目标值的差异\n",
    "print(\"The max target value is\",np.max(boston.target))\n",
    "print(\"The min target value is\",np.min(boston.target))\n",
    "print(\"The average target value is\",np.mean(boston.target))"
   ]
  },
  {
   "cell_type": "code",
   "execution_count": 16,
   "metadata": {},
   "outputs": [],
   "source": [
    "#训练与测试数据标准化处理\n",
    "\n",
    "#从sklearn.preprocessing导入数据标准化模块\n",
    "from sklearn.preprocessing import StandardScaler\n",
    "\n",
    "#分别初始化对特征和目标值的标准化器\n",
    "ss_X=StandardScaler()\n",
    "ss_y=StandardScaler()\n",
    "\n",
    "#分别对训练和测试数据的特征以及目标值进行标准化处理\n",
    "X_train=ss_X.fit_transform(X_train)\n",
    "X_test=ss_X.transform(X_test)\n",
    "y_train=ss_y.fit_transform(y_train.reshape(-1, 1))\n",
    "y_test=ss_y.transform(y_test.reshape(-1, 1))"
   ]
  },
  {
   "cell_type": "code",
   "execution_count": 17,
   "metadata": {},
   "outputs": [
    {
     "name": "stderr",
     "output_type": "stream",
     "text": [
      "C:\\Users\\lx\\anaconda3\\lib\\site-packages\\sklearn\\utils\\validation.py:760: DataConversionWarning: A column-vector y was passed when a 1d array was expected. Please change the shape of y to (n_samples, ), for example using ravel().\n",
      "  y = column_or_1d(y, warn=True)\n"
     ]
    }
   ],
   "source": [
    "#使用线性回归模型SGDRegressor（随机梯度下降线性回归）对美国波士顿地区房价进行预测\n",
    "\n",
    "#从sklearn.linear_model导入SGDRegressor\n",
    "from sklearn.linear_model import SGDRegressor\n",
    "#使用默认配置初始化线性回归器SGDRegressor\n",
    "sgdr=SGDRegressor()\n",
    "#使用训练数据进行参数估计\n",
    "sgdr.fit(X_train,y_train)\n",
    "#对测试数据进行回归预测\n",
    "sgdr_y_predict=sgdr.predict(X_test)"
   ]
  },
  {
   "cell_type": "code",
   "execution_count": 18,
   "metadata": {},
   "outputs": [
    {
     "name": "stdout",
     "output_type": "stream",
     "text": [
      "The R-squared value of SGDRegressor is 0.3799652737632211\n",
      "The mean squared error of SGDRegressor is 48.078295346160374\n",
      "The mean absolute error of SGDRegressor is 4.977813019570107\n"
     ]
    }
   ],
   "source": [
    "#从sklearn.metrics依次导入r2_score、mean_squared_error以及mean_absolute_error用于回归性能的评估\n",
    "from sklearn.metrics import r2_score,mean_squared_error,mean_absolute_error\n",
    "\n",
    "#使用r2_score模块，并输出评估结果\n",
    "print(\"The R-squared value of SGDRegressor is\",r2_score(y_test,sgdr_y_predict))\n",
    "\n",
    "#使用mean_squared_error模块，并输出评估结果\n",
    "print('The mean squared error of SGDRegressor is',mean_squared_error(ss_y.inverse_transform(y_test),ss_y.inverse_transform(sgdr_y_predict)))\n",
    "\n",
    "#使用mean_absolute_error模块，并输出评估结果\n",
    "print('The mean absolute error of SGDRegressor is',mean_absolute_error(ss_y.inverse_transform(y_test),ss_y.inverse_transform(sgdr_y_predict)))"
   ]
  },
  {
   "cell_type": "code",
   "execution_count": 19,
   "metadata": {},
   "outputs": [
    {
     "name": "stderr",
     "output_type": "stream",
     "text": [
      "C:\\Users\\lx\\anaconda3\\lib\\site-packages\\sklearn\\utils\\validation.py:760: DataConversionWarning: A column-vector y was passed when a 1d array was expected. Please change the shape of y to (n_samples, ), for example using ravel().\n",
      "  y = column_or_1d(y, warn=True)\n"
     ]
    }
   ],
   "source": [
    "#径向基核函数配置的支持向量机回归\n",
    "\n",
    "#从sklearn.svm中导入支持向量机（回归）模型\n",
    "from sklearn.svm import SVR\n",
    "\n",
    "#使用径向基核函数配置的支持向量机进行回归训练，并且对测试样本进行预测\n",
    "rbf_svr=SVR(kernel='rbf')\n",
    "rbf_svr.fit(X_train,y_train)\n",
    "rbf_svr_y_predict=rbf_svr.predict(X_test)"
   ]
  },
  {
   "cell_type": "code",
   "execution_count": 20,
   "metadata": {},
   "outputs": [
    {
     "name": "stdout",
     "output_type": "stream",
     "text": [
      "R-squared value of RBF SVR is 0.42949220951690764\n",
      "The mean squared error of RBF SVR is 44.237912632101356\n",
      "The mean absolute error of RBF SVR is 4.416075229362109\n"
     ]
    }
   ],
   "source": [
    "#使用R-squared、MSE和MAE指标进行性能评估\n",
    "\n",
    "print('R-squared value of RBF SVR is',rbf_svr.score(X_test,y_test))\n",
    "print('The mean squared error of RBF SVR is',mean_squared_error(ss_y.inverse_transform(y_test),ss_y.inverse_transform(rbf_svr_y_predict)))\n",
    "print('The mean absolute error of RBF SVR is',mean_absolute_error(ss_y.inverse_transform(y_test),ss_y.inverse_transform(rbf_svr_y_predict)))"
   ]
  },
  {
   "cell_type": "code",
   "execution_count": 21,
   "metadata": {},
   "outputs": [],
   "source": [
    "#使用据距离加权回归的K近邻回归模型对美国波士顿房价数据进行回归预测\n",
    "\n",
    "# 从sklearn.neighbors导入KNeighborRegressor(K近邻回归器)\n",
    "from sklearn.neighbors import KNeighborsRegressor\n",
    "\n",
    "# 初试化K近邻回归器,并且调整配置,使得预测的方式为根据距离加权回归:weights='distance'\n",
    "dis_knr = KNeighborsRegressor(weights='distance')\n",
    "dis_knr.fit(X_train, y_train)\n",
    "dis_knr_y_predict = dis_knr.predict(X_test)"
   ]
  },
  {
   "cell_type": "code",
   "execution_count": 22,
   "metadata": {},
   "outputs": [
    {
     "name": "stdout",
     "output_type": "stream",
     "text": [
      "R-squared value of distance-weighted KNeighorRegression: 0.6087503556174598\n",
      "The mean squared error of distance-weighted KNeighorRegression: 30.338003922574796\n",
      "The mean absoluate error of distance-weighted KNeighorRegression: 3.813225414372116\n"
     ]
    }
   ],
   "source": [
    "# 使用R-squared、MSE以及MAE三种指标对根据距离加权回归配置的K近邻模型在测试集上进行性能评估。\n",
    "print('R-squared value of distance-weighted KNeighorRegression:', dis_knr.score(X_test, y_test))\n",
    "print('The mean squared error of distance-weighted KNeighorRegression:', mean_squared_error(ss_y.inverse_transform(y_test), ss_y.inverse_transform(dis_knr_y_predict)))\n",
    "print('The mean absoluate error of distance-weighted KNeighorRegression:', mean_absolute_error(ss_y.inverse_transform(y_test), ss_y.inverse_transform(dis_knr_y_predict)))"
   ]
  },
  {
   "cell_type": "code",
   "execution_count": 23,
   "metadata": {},
   "outputs": [],
   "source": [
    "#使用回归树对美国波士顿房价训练数据进行学习，并对测试数据进行预测\n",
    "\n",
    "#从sklearn.tree中导入DecisionTreeRegressor\n",
    "from sklearn.tree import DecisionTreeRegressor\n",
    "#使用默认配置初始化DecisionTreeRegressor\n",
    "dtr=DecisionTreeRegressor()\n",
    "#用波士顿房价的训练数据构建回归树\n",
    "dtr.fit(X_train,y_train)\n",
    "#使用默认配置的单一回归树对测试数据进行预测，并将预测值存储在变量dtr_y_predict中\n",
    "dtr_y_predict=dtr.predict(X_test)"
   ]
  },
  {
   "cell_type": "code",
   "execution_count": 24,
   "metadata": {},
   "outputs": [
    {
     "name": "stdout",
     "output_type": "stream",
     "text": [
      "R-squared value error of DecisionTreeRegressor: 0.09427076606071061\n",
      "The mean squared error of DecisionTreeRegressor: 70.23141732283466\n",
      "The mean absolute error of DecisionTreeRegressor: 5.629133858267716\n"
     ]
    }
   ],
   "source": [
    "#对单一回归树模型在美国波士顿房价测试数据上的预测性能进行评估\n",
    "#使用R-squared、MSE以及MAE指标对默认配置的回归树在测试集上进行性能评估\n",
    "print('R-squared value error of DecisionTreeRegressor:',dtr.score(X_test,y_test))\n",
    "print('The mean squared error of DecisionTreeRegressor:',mean_squared_error(ss_y.inverse_transform(y_test),ss_y.inverse_transform(dtr_y_predict)))\n",
    "print('The mean absolute error of DecisionTreeRegressor:',mean_absolute_error(ss_y.inverse_transform(y_test),ss_y.inverse_transform(dtr_y_predict)))"
   ]
  },
  {
   "cell_type": "code",
   "execution_count": null,
   "metadata": {},
   "outputs": [],
   "source": []
  }
 ],
 "metadata": {
  "kernelspec": {
   "display_name": "Python 3",
   "language": "python",
   "name": "python3"
  },
  "language_info": {
   "codemirror_mode": {
    "name": "ipython",
    "version": 3
   },
   "file_extension": ".py",
   "mimetype": "text/x-python",
   "name": "python",
   "nbconvert_exporter": "python",
   "pygments_lexer": "ipython3",
   "version": "3.7.6"
  }
 },
 "nbformat": 4,
 "nbformat_minor": 4
}
